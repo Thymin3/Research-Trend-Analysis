{
 "cells": [
  {
   "cell_type": "code",
   "execution_count": null,
   "id": "4421ddb7",
   "metadata": {},
   "outputs": [
    {
     "name": "stdout",
     "output_type": "stream",
     "text": [
      "Loading JSON to convert to Parquet...\n",
      "JSON loading took: 98.42 seconds\n",
      "Saving DataFrame shape (2700231, 14) to Parquet: arxiv.parquet\n",
      "Parquet saving took: 34.39 seconds\n"
     ]
    }
   ],
   "source": [
    "import pandas as pd\n",
    "import time\n",
    "\n",
    "# --- First time: Load JSON and save as Parquet ---\n",
    "json_file_path = 'arxiv.json'\n",
    "parquet_file_path = 'arxiv.parquet'\n",
    "\n",
    "print(\"Loading JSON to convert to Parquet...\")\n",
    "start_time = time.time()\n",
    "df_json = pd.read_json(json_file_path, lines=True)\n",
    "end_time = time.time()\n",
    "print(f\"JSON loading took: {end_time - start_time:.2f} seconds\")\n",
    "\n",
    "print(f\"Saving DataFrame shape {df_json.shape} to Parquet: {parquet_file_path}\")\n",
    "start_time = time.time()\n",
    "df_json.to_parquet(parquet_file_path, engine='pyarrow', index=False) # index=False avoids saving pandas index\n",
    "end_time = time.time()\n",
    "print(f\"Parquet saving took: {end_time - start_time:.2f} seconds\")\n",
    "del df_json # Free up memory"
   ]
  },
  {
   "cell_type": "code",
   "execution_count": null,
   "id": "b825e2a3",
   "metadata": {},
   "outputs": [
    {
     "name": "stdout",
     "output_type": "stream",
     "text": [
      "\n",
      "Loading directly from Parquet: arxiv.parquet\n",
      "Loaded DataFrame shape: (2700231, 14)\n",
      "Parquet loading took: 26.87 seconds\n"
     ]
    }
   ],
   "source": [
    "# --- Subsequent times: Load directly from Parquet ---\n",
    "# df = pd.read_parquet(parquet_file_path, engine='pyarrow')"
   ]
  },
  {
   "cell_type": "code",
   "execution_count": null,
   "id": "e40b971f",
   "metadata": {},
   "outputs": [],
   "source": []
  }
 ],
 "metadata": {
  "kernelspec": {
   "display_name": "base",
   "language": "python",
   "name": "python3"
  },
  "language_info": {
   "codemirror_mode": {
    "name": "ipython",
    "version": 3
   },
   "file_extension": ".py",
   "mimetype": "text/x-python",
   "name": "python",
   "nbconvert_exporter": "python",
   "pygments_lexer": "ipython3",
   "version": "3.11.5"
  }
 },
 "nbformat": 4,
 "nbformat_minor": 5
}
